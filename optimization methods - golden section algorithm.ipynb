{
 "cells": [
  {
   "cell_type": "markdown",
   "source": [
    "## Golden section algorithm"
   ],
   "metadata": {
    "collapsed": false,
    "pycharm": {
     "name": "#%% md\n"
    }
   }
  },
  {
   "cell_type": "code",
   "execution_count": 1,
   "outputs": [],
   "source": [
    "import math"
   ],
   "metadata": {
    "collapsed": false,
    "pycharm": {
     "name": "#%%\n"
    }
   }
  },
  {
   "cell_type": "code",
   "execution_count": 2,
   "outputs": [],
   "source": [
    "upper_x = 10\n",
    "lower_x = 1.5\n",
    "tolerance = 0.01\n",
    "iterations_lim = 150\n",
    "R = (math.sqrt(5) - 1) / 2"
   ],
   "metadata": {
    "collapsed": false,
    "pycharm": {
     "name": "#%%\n"
    }
   }
  },
  {
   "cell_type": "code",
   "execution_count": 3,
   "outputs": [],
   "source": [
    "def function(x):\n",
    "    y = 1.4 * math.sin(x) * math.cos(x) + 0.25 * ((x - 5) ** 2) * math.log(x) - 1.2 * x\n",
    "    return -y"
   ],
   "metadata": {
    "collapsed": false,
    "pycharm": {
     "name": "#%%\n"
    }
   }
  },
  {
   "cell_type": "code",
   "execution_count": 4,
   "outputs": [],
   "source": [
    "def is_tolerated(lower_x, upper_x, guess, tolerance):\n",
    "    error_value = (1 - R) * abs((upper_x - lower_x) / guess)\n",
    "\n",
    "    if error_value < tolerance: return True\n",
    "    return False"
   ],
   "metadata": {
    "collapsed": false,
    "pycharm": {
     "name": "#%%\n"
    }
   }
  },
  {
   "cell_type": "code",
   "execution_count": 5,
   "outputs": [],
   "source": [
    "def d_rebalance(lower_x, upper_x):\n",
    "    return  (upper_x - lower_x) * R"
   ],
   "metadata": {
    "collapsed": false,
    "pycharm": {
     "name": "#%%\n"
    }
   }
  },
  {
   "cell_type": "code",
   "execution_count": 6,
   "outputs": [],
   "source": [
    "def golden_section_algorithm(lower_x, upper_x, tolerance, iterations_lim):\n",
    "    x, y = [0, 0], [0, 0]\n",
    "    best_guess = 0\n",
    "\n",
    "    for i in range(0, iterations_lim):\n",
    "        d = d_rebalance(lower_x, upper_x)\n",
    "\n",
    "        x[0], x[1] = lower_x + d, upper_x - d\n",
    "        y[0], y[1] = function(x[0]), function(x[1])\n",
    "\n",
    "        if y[0] > y[1]:\n",
    "            lower_x, best_guess = x[1], x[0]\n",
    "            if is_tolerated(lower_x, upper_x, x[0], tolerance): break\n",
    "\n",
    "        else:\n",
    "            upper_x, best_guess = x[0], x[1]\n",
    "            if is_tolerated(lower_x, upper_x, x[1], tolerance): break\n",
    "\n",
    "        print(f\"# Iteration {i}: lower_x = {lower_x}; upper_x = {upper_x};  d = {d}\")\n",
    "\n",
    "    return best_guess"
   ],
   "metadata": {
    "collapsed": false,
    "pycharm": {
     "name": "#%%\n"
    }
   }
  },
  {
   "cell_type": "code",
   "execution_count": 7,
   "outputs": [
    {
     "name": "stdout",
     "output_type": "stream",
     "text": [
      "# Iteration 0: lower_x = 4.746711095625893; upper_x = 10;  d = 5.253288904374107\n",
      "# Iteration 1: lower_x = 4.746711095625893; upper_x = 7.9934221912517875;  d = 3.246711095625894\n",
      "# Iteration 2: lower_x = 4.746711095625893; upper_x = 6.753288904374106;  d = 2.006577808748213\n",
      "# Iteration 3: lower_x = 4.746711095625893; upper_x = 5.986844382503575;  d = 1.2401332868776815\n",
      "# Iteration 4: lower_x = 5.2203998606330435; upper_x = 5.986844382503575;  d = 0.7664445218705314\n",
      "# Iteration 5: lower_x = 5.513155617496424; upper_x = 5.986844382503575;  d = 0.4736887650071507\n",
      "# Iteration 6: lower_x = 5.513155617496424; upper_x = 5.805911374359805;  d = 0.29275575686338123\n",
      "# Iteration 7: lower_x = 5.624978366216036; upper_x = 5.805911374359805;  d = 0.18093300814377003\n"
     ]
    }
   ],
   "source": [
    "ans = golden_section_algorithm(lower_x, upper_x, tolerance, iterations_lim)"
   ],
   "metadata": {
    "collapsed": false,
    "pycharm": {
     "name": "#%%\n"
    }
   }
  },
  {
   "cell_type": "code",
   "execution_count": 8,
   "outputs": [
    {
     "name": "stdout",
     "output_type": "stream",
     "text": [
      "x is 5.694088625640195\n",
      "y is -7.270151419543913\n"
     ]
    }
   ],
   "source": [
    "print(\"x is\", ans)\n",
    "print(\"y is\", -function(ans))"
   ],
   "metadata": {
    "collapsed": false,
    "pycharm": {
     "name": "#%%\n"
    }
   }
  },
  {
   "cell_type": "code",
   "execution_count": 8,
   "outputs": [],
   "source": [],
   "metadata": {
    "collapsed": false,
    "pycharm": {
     "name": "#%%\n"
    }
   }
  }
 ],
 "metadata": {
  "kernelspec": {
   "display_name": "Python 3",
   "language": "python",
   "name": "python3"
  },
  "language_info": {
   "codemirror_mode": {
    "name": "ipython",
    "version": 2
   },
   "file_extension": ".py",
   "mimetype": "text/x-python",
   "name": "python",
   "nbconvert_exporter": "python",
   "pygments_lexer": "ipython2",
   "version": "2.7.6"
  }
 },
 "nbformat": 4,
 "nbformat_minor": 0
}